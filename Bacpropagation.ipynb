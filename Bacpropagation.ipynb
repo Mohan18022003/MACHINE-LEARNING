{
  "nbformat": 4,
  "nbformat_minor": 0,
  "metadata": {
    "colab": {
      "provenance": []
    },
    "kernelspec": {
      "name": "python3",
      "display_name": "Python 3"
    },
    "language_info": {
      "name": "python"
    }
  },
  "cells": [
    {
      "cell_type": "code",
      "execution_count": null,
      "metadata": {
        "id": "7iAPWGi8mi16"
      },
      "outputs": [],
      "source": [
        "import numpy as np\n",
        "import pandas as pd\n",
        "import matplotlib.pyplot as plt\n",
        "from sklearn.datasets import load_iris\n"
      ]
    },
    {
      "cell_type": "code",
      "source": [
        "df=load_iris()\n",
        "df.keys()"
      ],
      "metadata": {
        "colab": {
          "base_uri": "https://localhost:8080/"
        },
        "id": "uYXJmvjGnePW",
        "outputId": "6439907c-4011-4b5b-dc91-5d7c52347c78"
      },
      "execution_count": null,
      "outputs": [
        {
          "output_type": "execute_result",
          "data": {
            "text/plain": [
              "dict_keys(['data', 'target', 'frame', 'target_names', 'DESCR', 'feature_names', 'filename', 'data_module'])"
            ]
          },
          "metadata": {},
          "execution_count": 11
        }
      ]
    },
    {
      "cell_type": "code",
      "source": [],
      "metadata": {
        "id": "vxTQX24FhkQP"
      },
      "execution_count": null,
      "outputs": []
    },
    {
      "cell_type": "code",
      "source": [
        "x=df.data\n",
        "y=df.target"
      ],
      "metadata": {
        "id": "deGFbINOoYBo"
      },
      "execution_count": null,
      "outputs": []
    },
    {
      "cell_type": "code",
      "source": [
        "y=pd.get_dummies(y).values\n",
        "y[:3]"
      ],
      "metadata": {
        "colab": {
          "base_uri": "https://localhost:8080/"
        },
        "id": "nH_mGvpHosqI",
        "outputId": "b455edd7-b207-4c0e-d8d6-f538c636a16a"
      },
      "execution_count": null,
      "outputs": [
        {
          "output_type": "execute_result",
          "data": {
            "text/plain": [
              "array([[1, 0, 0],\n",
              "       [1, 0, 0],\n",
              "       [1, 0, 0]], dtype=uint8)"
            ]
          },
          "metadata": {},
          "execution_count": 13
        }
      ]
    },
    {
      "cell_type": "code",
      "source": [
        "from sklearn.model_selection import train_test_split\n",
        "x_train,x_test,y_train,y_test=train_test_split(x,y,test_size=0.2,random_state=4)"
      ],
      "metadata": {
        "id": "15m3LqwKo07M"
      },
      "execution_count": null,
      "outputs": []
    },
    {
      "cell_type": "markdown",
      "source": [
        "Hyperparameters"
      ],
      "metadata": {
        "id": "SVyAPot5shz7"
      }
    },
    {
      "cell_type": "code",
      "source": [
        "learning_rate=0.1\n",
        "iterations=5000\n",
        "N=y_train.size\n",
        "\n",
        "input_size=4\n",
        "\n",
        "hidden_size=2\n",
        "\n",
        "output_size=3\n",
        "\n",
        "results=pd.DataFrame(columns=['mse','accuracy'])"
      ],
      "metadata": {
        "id": "lQvQDeMGpFIn"
      },
      "execution_count": null,
      "outputs": []
    },
    {
      "cell_type": "markdown",
      "source": [
        "weights intialization"
      ],
      "metadata": {
        "id": "rvuFC7oLsmdi"
      }
    },
    {
      "cell_type": "code",
      "source": [
        "#intializing weights with random values\n",
        "np.random.seed(10)\n",
        "W1=np.random.normal(scale=0.5,size=(input_size,hidden_size))\n",
        "\n",
        "W2=np.random.normal(scale=0.5,size=(hidden_size,output_size))"
      ],
      "metadata": {
        "id": "1bd9NfVmpdCo"
      },
      "execution_count": null,
      "outputs": []
    },
    {
      "cell_type": "markdown",
      "source": [
        "Helper functions sigmoid, mean square error,and accuracy"
      ],
      "metadata": {
        "id": "1ZKFiWoLsYE9"
      }
    },
    {
      "cell_type": "code",
      "source": [
        "def sigmoid(x):\n",
        "  return 1/ (1 + np.exp(-x))\n",
        "\n",
        "def mean_squared_error(y_pred,y_true):\n",
        "  return ((y_pred - y_true)**2).sum() / (2*y_pred.size)\n",
        "\n",
        "def accuracy(y_pred,y_true):\n",
        "  acc= y_pred.argmax(axis=1) == y_true.argmax(axis=1)\n",
        "  return acc.mean()"
      ],
      "metadata": {
        "id": "l8MsDRXyp9eP"
      },
      "execution_count": null,
      "outputs": []
    },
    {
      "cell_type": "markdown",
      "source": [
        "Creation of backpropagation neural network"
      ],
      "metadata": {
        "id": "gBVIBy1IsLzL"
      }
    },
    {
      "cell_type": "code",
      "source": [
        "import warnings\n",
        "warnings.filterwarnings('ignore')\n",
        "for itr in range(iterations):\n",
        "\n",
        "    # feedforward propagation\n",
        "    Z1 = np.dot(x_train, W1)\n",
        "    A1 = sigmoid(Z1)\n",
        "\n",
        "    # on output layer\n",
        "    Z2 = np.dot(A1, W2)\n",
        "    A2 = sigmoid(Z2)\n",
        "\n",
        "\n",
        "    # Calculating error\n",
        "    mse = mean_squared_error(A2, y_train)\n",
        "    acc = accuracy(A2, y_train)\n",
        "    results=results.append({\"mse\":mse, \"accuracy\":acc},ignore_index=True )\n",
        "\n",
        "    # backpropagation\n",
        "    E1 = A2 - y_train\n",
        "    dW1 = E1 * A2 * (1 - A2)\n",
        "\n",
        "    E2 = np.dot(dW1, W2.T)\n",
        "    dW2 = E2 * A1 * (1 - A1)\n",
        "\n",
        "\n",
        "    # weight updates\n",
        "    W2_update = np.dot(A1.T, dW1) / N\n",
        "    W1_update = np.dot(x_train.T, dW2) / N\n",
        "\n",
        "    W2 = W2 - learning_rate * W2_update\n",
        "    W1 = W1 - learning_rate * W1_update"
      ],
      "metadata": {
        "id": "SoLOw4CwqZTz"
      },
      "execution_count": null,
      "outputs": []
    },
    {
      "cell_type": "markdown",
      "source": [
        "Plotting of MSE"
      ],
      "metadata": {
        "id": "66ItCVxvsFR7"
      }
    },
    {
      "cell_type": "code",
      "source": [
        "results.mse.plot(title=\"Mean Squared Error\")"
      ],
      "metadata": {
        "colab": {
          "base_uri": "https://localhost:8080/",
          "height": 469
        },
        "id": "CBMP3gh5qrIm",
        "outputId": "3695431e-c39f-408b-be51-33214490f6c6"
      },
      "execution_count": null,
      "outputs": [
        {
          "output_type": "execute_result",
          "data": {
            "text/plain": [
              "<Axes: title={'center': 'Mean Squared Error'}>"
            ]
          },
          "metadata": {},
          "execution_count": 31
        },
        {
          "output_type": "display_data",
          "data": {
            "text/plain": [
              "<Figure size 640x480 with 1 Axes>"
            ],
            "image/png": "[encoded data removed]"
          },
          "metadata": {}
        }
      ]
    },
    {
      "cell_type": "markdown",
      "source": [
        "plotting of accuracy"
      ],
      "metadata": {
        "id": "CzOCs6Opr72S"
      }
    },
    {
      "cell_type": "code",
      "source": [
        "results.accuracy.plot(title=\"Accuracy\")"
      ],
      "metadata": {
        "colab": {
          "base_uri": "https://localhost:8080/",
          "height": 469
        },
        "id": "2PowxDMKq7q1",
        "outputId": "0ccebe41-b4d5-45d7-8336-9ea5da5e7fe9"
      },
      "execution_count": null,
      "outputs": [
        {
          "output_type": "execute_result",
          "data": {
            "text/plain": [
              "<Axes: title={'center': 'Accuracy'}>"
            ]
          },
          "metadata": {},
          "execution_count": 32
        },
        {
          "output_type": "display_data",
          "data": {
            "text/plain": [
              "<Figure size 640x480 with 1 Axes>"
            ],
            "image/png": "[encoded data removed]"
          },
          "metadata": {}
        }
      ]
    },
    {
      "cell_type": "markdown",
      "source": [
        "score of accuracy"
      ],
      "metadata": {
        "id": "Z0OKVluDr_Pa"
      }
    },
    {
      "cell_type": "code",
      "source": [
        "Z1 = np.dot(x_test, W1)\n",
        "A1 = sigmoid(Z1)\n",
        "\n",
        "Z2 = np.dot(A1, W2)\n",
        "A2 = sigmoid(Z2)\n",
        "\n",
        "acc = accuracy(A2, y_test)\n",
        "print(\"Accuracy: {}\".format(acc))"
      ],
      "metadata": {
        "colab": {
          "base_uri": "https://localhost:8080/"
        },
        "id": "Bezq6O0xq_W5",
        "outputId": "8ad8067f-8809-4541-b7b4-476c9a0300af"
      },
      "execution_count": null,
      "outputs": [
        {
          "output_type": "stream",
          "name": "stdout",
          "text": [
            "Accuracy: 0.9666666666666667\n"
          ]
        }
      ]
    },
    {
      "cell_type": "code",
      "source": [],
      "metadata": {
        "id": "yOw_qh3aj2D4"
      },
      "execution_count": null,
      "outputs": []
    },
    {
      "cell_type": "code",
      "source": [],
      "metadata": {
        "id": "ZC7As0mfrB4F"
      },
      "execution_count": null,
      "outputs": []
    },
    {
      "cell_type": "code",
      "source": [],
      "metadata": {
        "id": "GQ5rtF5nj21N"
      },
      "execution_count": null,
      "outputs": []
    }
  ]
}